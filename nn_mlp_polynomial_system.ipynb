{
 "cells": [
  {
   "cell_type": "markdown",
   "metadata": {},
   "source": [
    "# Import packages"
   ]
  },
  {
   "cell_type": "code",
   "execution_count": 1,
   "metadata": {},
   "outputs": [
    {
     "name": "stderr",
     "output_type": "stream",
     "text": [
      "2023-12-08 14:35:33.269799: I tensorflow/core/util/port.cc:111] oneDNN custom operations are on. You may see slightly different numerical results due to floating-point round-off errors from different computation orders. To turn them off, set the environment variable `TF_ENABLE_ONEDNN_OPTS=0`.\n",
      "2023-12-08 14:35:33.746935: I tensorflow/tsl/cuda/cudart_stub.cc:28] Could not find cuda drivers on your machine, GPU will not be used.\n",
      "2023-12-08 14:35:34.095332: E tensorflow/compiler/xla/stream_executor/cuda/cuda_dnn.cc:9342] Unable to register cuDNN factory: Attempting to register factory for plugin cuDNN when one has already been registered\n",
      "2023-12-08 14:35:34.095384: E tensorflow/compiler/xla/stream_executor/cuda/cuda_fft.cc:609] Unable to register cuFFT factory: Attempting to register factory for plugin cuFFT when one has already been registered\n",
      "2023-12-08 14:35:34.095448: E tensorflow/compiler/xla/stream_executor/cuda/cuda_blas.cc:1518] Unable to register cuBLAS factory: Attempting to register factory for plugin cuBLAS when one has already been registered\n",
      "2023-12-08 14:35:34.143539: I tensorflow/tsl/cuda/cudart_stub.cc:28] Could not find cuda drivers on your machine, GPU will not be used.\n",
      "2023-12-08 14:35:34.145152: I tensorflow/core/platform/cpu_feature_guard.cc:182] This TensorFlow binary is optimized to use available CPU instructions in performance-critical operations.\n",
      "To enable the following instructions: AVX2 AVX512F AVX512_VNNI FMA, in other operations, rebuild TensorFlow with the appropriate compiler flags.\n",
      "2023-12-08 14:35:42.376385: W tensorflow/compiler/tf2tensorrt/utils/py_utils.cc:38] TF-TRT Warning: Could not find TensorRT\n"
     ]
    },
    {
     "name": "stdout",
     "output_type": "stream",
     "text": [
      "WARNING:tensorflow:From /tmp/ipykernel_33934/2576686919.py:28: is_gpu_available (from tensorflow.python.framework.test_util) is deprecated and will be removed in a future version.\n",
      "Instructions for updating:\n",
      "Use `tf.config.list_physical_devices('GPU')` instead.\n"
     ]
    }
   ],
   "source": [
    "import os\n",
    "import json\n",
    "import numpy as np\n",
    "from sympy import symbols, sympify, lambdify\n",
    "from tabulate import tabulate\n",
    "import yaml\n",
    "from datetime import datetime\n",
    "import glob\n",
    "import matplotlib.pyplot as plt\n",
    "\n",
    "import tensorflow as tf\n",
    "\n",
    "tf.keras.backend.set_floatx('float64')\n",
    "\n",
    "from tensorflow.keras.optimizers import Adam, SGD\n",
    "\n",
    "from tensorflow.keras.models import Model\n",
    "from tensorflow.keras.layers import Input, Dense\n",
    "\n",
    "\n",
    "# Set random seeds for reproducibility\n",
    "seed_value = 2023\n",
    "tf.keras.backend.clear_session()\n",
    "tf.random.set_seed(seed_value)\n",
    "np.random.seed(seed_value)\n",
    "\n",
    "# Set random seed for GPU (if using TensorFlow with GPU)\n",
    "if tf.test.is_gpu_available():\n",
    "    tf.config.experimental.random_seed(seed_value)\n",
    "\n",
    "\n",
    "## Allow to print actual tf values\n",
    "# tf.config.experimental_run_functions_eagerly(True)\n",
    "# tf.config.run_functions_eagerly(True)"
   ]
  },
  {
   "cell_type": "markdown",
   "metadata": {},
   "source": [
    "# Constants and parameters"
   ]
  },
  {
   "cell_type": "code",
   "execution_count": 2,
   "metadata": {},
   "outputs": [],
   "source": [
    "tf_precision = tf.float64\n",
    "np_precision = np.float64\n",
    "\n",
    "with open('config_run.yml', 'r') as ymlfile:\n",
    "    config_data = yaml.load(ymlfile, Loader=yaml.FullLoader)"
   ]
  },
  {
   "cell_type": "code",
   "execution_count": 3,
   "metadata": {},
   "outputs": [],
   "source": [
    "problem_name = config_data['problem_folder']\n",
    "EQS_FILE = problem_name + '.json'\n",
    "EQS_PATH = os.path.join(os.getcwd(), problem_name, EQS_FILE)\n",
    "\n",
    "training_steps = config_data['epochs']\n",
    "display_step = training_steps // 20\n",
    "\n",
    "load_initial_estimate = config_data['load_initial_estimate']\n",
    "save_best_solution = config_data['save_best_solution']\n",
    "\n",
    "lambda_regularization = float(config_data['lambda_regularization'])\n",
    "\n",
    "if len(list(config_data['learning_rate'].keys())) > 1:\n",
    "    lr_steps = [int(training_steps * key / 100) for key in list(config_data['learning_rate'].keys()) if key != 0]\n",
    "    lr_values = [float(val) for val in list(config_data['learning_rate'].values())]\n",
    "    learning_rate = tf.keras.optimizers.schedules.PiecewiseConstantDecay(lr_steps, lr_values)\n",
    "else:\n",
    "    learning_rate = float(list(config_data['learning_rate'].values())[0])"
   ]
  },
  {
   "cell_type": "code",
   "execution_count": 4,
   "metadata": {},
   "outputs": [
    {
     "name": "stdout",
     "output_type": "stream",
     "text": [
      "[-1.0, -1.0, -1.0, -1.0, -1.0, -1.0, -1.0, -1.0]\n",
      "[[1.0, 1.0, 1.0, 1.0], [2.0, 2.0, 2.0], [6.0, 6.0], [3.0, 3.0, 3.0], [24.0], [12.0, 12.0], [8.0, 8.0], [4.0, 4.0, 4.0]]\n",
      "['b_1', 'b_2', 'b_3', 'b_4', 'a_21*b_2', 'b_3*(a_31 + a_32)', 'b_4*(a_41 + a_42 + a_43)', 'b_4*(a_21*a_42 + a_43*(a_31 + a_32))', 'a_21*a_32*b_3', 'a_21**2*b_2', 'b_3*(a_31 + a_32)**2', 'b_4*(a_41 + a_42 + a_43)**2', 'a_21*a_32*a_43*b_4', 'b_4*(a_21**2*a_42 + a_43*(a_31 + a_32)**2)', 'a_21**2*a_32*b_3', 'b_4*(a_21*a_42 + a_43*(a_31 + a_32))*(a_41 + a_42 + a_43)', 'a_21*a_32*b_3*(a_31 + a_32)', 'a_21**3*b_2', 'b_3*(a_31 + a_32)**3', 'b_4*(a_41 + a_42 + a_43)**3']\n",
      "[b_1, b_2, b_3, b_4, a_21*b_2, b_3*(a_31 + a_32), b_4*(a_41 + a_42 + a_43), b_4*(a_21*a_42 + a_43*(a_31 + a_32)), a_21*a_32*b_3, a_21**2*b_2, b_3*(a_31 + a_32)**2, b_4*(a_41 + a_42 + a_43)**2, a_21*a_32*a_43*b_4, b_4*(a_21**2*a_42 + a_43*(a_31 + a_32)**2), a_21**2*a_32*b_3, b_4*(a_21*a_42 + a_43*(a_31 + a_32))*(a_41 + a_42 + a_43), a_21*a_32*b_3*(a_31 + a_32), a_21**3*b_2, b_3*(a_31 + a_32)**3, b_4*(a_41 + a_42 + a_43)**3]\n",
      "[b_1 + b_2 + b_3 + b_4 - 1, 2*a_21*b_2 + 2*b_3*(a_31 + a_32) + 2*b_4*(a_41 + a_42 + a_43) - 1, 6*a_21*a_32*b_3 + 6*b_4*(a_21*a_42 + a_43*(a_31 + a_32)) - 1, 3*a_21**2*b_2 + 3*b_3*(a_31 + a_32)**2 + 3*b_4*(a_41 + a_42 + a_43)**2 - 1, 24*a_21*a_32*a_43*b_4 - 1, 12*a_21**2*a_32*b_3 + 12*b_4*(a_21**2*a_42 + a_43*(a_31 + a_32)**2) - 1, 8*a_21*a_32*b_3*(a_31 + a_32) + 8*b_4*(a_21*a_42 + a_43*(a_31 + a_32))*(a_41 + a_42 + a_43) - 1, 4*a_21**3*b_2 + 4*b_3*(a_31 + a_32)**3 + 4*b_4*(a_41 + a_42 + a_43)**3 - 1]\n"
     ]
    }
   ],
   "source": [
    "# Read the JSON data from the file\n",
    "with open(EQS_PATH, 'r') as file:\n",
    "    data = json.load(file)\n",
    "\n",
    "variables = data['variables']\n",
    "equations = data['equations']\n",
    "# equation_terms = data['equation_terms']\n",
    "\n",
    "variables_str = ' '.join(variables)\n",
    "variables_sym = symbols(variables_str)\n",
    "equations_sym = [sympify(eq) for eq in equations]  \n",
    "\n",
    "## Identify the equation terms\n",
    "equation_terms = []\n",
    "for (i, eq) in enumerate(equations_sym):\n",
    "    terms = []\n",
    "    for term in eq.args:\n",
    "        terms.append(str(term))\n",
    "    equation_terms.append(terms)\n",
    "\n",
    "# Initialize a list to store the coefficients\n",
    "scalar_coefficients = []\n",
    "functions = []\n",
    "bias_coefficients = []\n",
    "\n",
    "# Loop through the equation terms\n",
    "for terms in equation_terms:\n",
    "    bias_coefficients.append(float(terms[0]))\n",
    "    coefficients = []   \n",
    "    for term in terms[1:]:\n",
    "        # Split each term by the first '*'\n",
    "        term_parts = term.split('*')\n",
    "        # Extract the scalar coefficient or default to '1'\n",
    "        scalar_coeff = term_parts[0] if len(term_parts) > 1 and term_parts[0] not in variables else '1.0'\n",
    "        coefficients.append(float(scalar_coeff))\n",
    "               \n",
    "        # Remove first occurrence of scalar coefficient from the term\n",
    "        func_coeff = term.replace(term_parts[0]+'*', '', 1) if len(term_parts) > 1 and term_parts[0] not in variables else term\n",
    "        functions.append(func_coeff)\n",
    "        \n",
    "    scalar_coefficients.append(coefficients)   \n",
    "       \n",
    "functions_sym = [sympify(func) for func in functions]       \n",
    "        \n",
    "print(bias_coefficients)\n",
    "print(scalar_coefficients)\n",
    "print(functions)\n",
    "print(functions_sym)\n",
    "print(equations_sym)"
   ]
  },
  {
   "cell_type": "markdown",
   "metadata": {},
   "source": [
    "# Functions"
   ]
  },
  {
   "cell_type": "code",
   "execution_count": 5,
   "metadata": {},
   "outputs": [],
   "source": [
    "def load_most_recent_estimate(problem_name, prefix=\"best_estimate\"):\n",
    "    # Find all JSON files with the specified prefix\n",
    "    pattern = os.path.join(problem_name, f\"{prefix}_*.json\")\n",
    "    files = glob.glob(pattern)\n",
    "\n",
    "    if not files:\n",
    "        print(f\"No files found with prefix '{prefix}'\")\n",
    "        return None\n",
    "\n",
    "    # Get the most recent file based on modification time\n",
    "    most_recent_file = max(files, key=os.path.getmtime)\n",
    "    \n",
    "    print(f\"Loading most recent estimate from {most_recent_file}\")\n",
    "\n",
    "    # Load json file with initial estimate (best from the most recent run)\n",
    "    with open(most_recent_file, 'r') as file:\n",
    "        data = json.load(file)\n",
    "\n",
    "    return data['best_solution']\n",
    "\n",
    "\n",
    "@tf.autograph.experimental.do_not_convert\n",
    "def evaluate_tf_function(inputs, values, symbolic_function):\n",
    "    # Ensure that the number of inputs and values match\n",
    "    if len(inputs) != len(values):\n",
    "        raise ValueError(\"Number of inputs and values must match.\")\n",
    "\n",
    "    # Evaluate the symbolic function using TensorFlow and the provided values\n",
    "    result = symbolic_function(*values)\n",
    "    # Convert the result to a TensorFlow tensor\n",
    "    result = tf.convert_to_tensor(result, dtype=tf_precision)\n",
    "    \n",
    "    # print(result.__class__)\n",
    "    \n",
    "    return result\n",
    "\n",
    "\n",
    "# Create model\n",
    "@tf.autograph.experimental.do_not_convert\n",
    "def mlp_model(num_outputs, hidden_layers = [16, 16]):\n",
    "\n",
    "    # # Reshape input if necessary, matching the shape of the first layer's weights\n",
    "    # x = tf.reshape(x, [1, -1])  # Adjust the shape as needed\n",
    "    \n",
    "    mlp_input = Input(shape=(1,1), name=\"mlp_input\")\n",
    "    \n",
    "    hidden_layer = mlp_input\n",
    "    \n",
    "    for li, layer_size in enumerate(hidden_layers):\n",
    "        # Create hidden layer initialized with Glorot uniform\n",
    "        hidden_layer = Dense(layer_size, activation='tanh', \n",
    "                             kernel_initializer='glorot_uniform',\n",
    "                             name=f\"hidden_layer_{li+1}\")(hidden_layer)\n",
    "\n",
    "    output_layer = Dense(num_outputs, activation='linear', \n",
    "                         kernel_initializer='glorot_uniform',\n",
    "                         name=\"output_layer\")(hidden_layer)\n",
    "    \n",
    "    return Model(inputs=mlp_input, outputs=output_layer)\n",
    "\n",
    "\n",
    "@tf.autograph.experimental.do_not_convert\n",
    "def customMSE(vars=variables_sym, funcs=equations_sym, lambda_reg=0.01):\n",
    "    \n",
    "    def mse(y_true, y_pred):\n",
    "        \n",
    "        y_pred_values = y_pred[0, 0, :]\n",
    "        \n",
    "        var_vals = [tf.squeeze(y_pred[0, 0, i]) for i in range(y_pred_values.shape[0])]\n",
    "        \n",
    "        nn_residual = list()\n",
    "        for func in funcs:\n",
    "            # print(f\"func = {func}\")\n",
    "            func_tf = lambdify(vars, func, 'tensorflow')\n",
    "            nn_residual.append(evaluate_tf_function(variables_sym, var_vals, func_tf))\n",
    "        \n",
    "        nn_residual_tf = tf.convert_to_tensor(nn_residual, dtype=tf_precision)\n",
    "\n",
    "        mse_value = tf.reduce_mean(tf.square(nn_residual_tf))\n",
    "        \n",
    "        # Add regularization so the output is not all zeros\n",
    "        nn_output = y_pred[0, 0, :]\n",
    "        reg_value = tf.reduce_mean(tf.square(nn_output))        \n",
    "        \n",
    "        return mse_value * (1.0 - lambda_reg) + reg_value * lambda_reg\n",
    "        \n",
    "        # return y_pred\n",
    "\n",
    "    return mse\n"
   ]
  },
  {
   "cell_type": "markdown",
   "metadata": {},
   "source": [
    "# Model"
   ]
  },
  {
   "cell_type": "markdown",
   "metadata": {},
   "source": [
    "## Create and compile model"
   ]
  },
  {
   "cell_type": "code",
   "execution_count": 6,
   "metadata": {},
   "outputs": [
    {
     "name": "stdout",
     "output_type": "stream",
     "text": [
      "Model: \"model\"\n",
      "_________________________________________________________________\n",
      " Layer (type)                Output Shape              Param #   \n",
      "=================================================================\n",
      " mlp_input (InputLayer)      [(None, 1, 1)]            0         \n",
      "                                                                 \n",
      " hidden_layer_1 (Dense)      (None, 1, 16)             32        \n",
      "                                                                 \n",
      " hidden_layer_2 (Dense)      (None, 1, 16)             272       \n",
      "                                                                 \n",
      " output_layer (Dense)        (None, 1, 10)             170       \n",
      "                                                                 \n",
      "=================================================================\n",
      "Total params: 474 (3.70 KB)\n",
      "Trainable params: 474 (3.70 KB)\n",
      "Non-trainable params: 0 (0.00 Byte)\n",
      "_________________________________________________________________\n"
     ]
    }
   ],
   "source": [
    "# Network Parameters\n",
    "num_input = 1 # input layer\n",
    "\n",
    "num_vars = len(variables)\n",
    "num_output = num_vars\n",
    "\n",
    "# Create the model\n",
    "model = mlp_model(num_output, hidden_layers = [16, 16])\n",
    "model.summary()\n",
    "\n",
    "# Define the optimizer and loss function\n",
    "optimizer = Adam(learning_rate=learning_rate)\n",
    "# optimizer = SGD(learning_rate=learning_rate)\n",
    "loss_object = customMSE(variables_sym, equations_sym, lambda_reg=lambda_regularization)\n",
    "\n",
    "# Compile the model\n",
    "model.compile(optimizer=optimizer, loss=loss_object)"
   ]
  },
  {
   "cell_type": "markdown",
   "metadata": {},
   "source": [
    "## Train the model"
   ]
  },
  {
   "cell_type": "code",
   "execution_count": 7,
   "metadata": {},
   "outputs": [
    {
     "name": "stdout",
     "output_type": "stream",
     "text": [
      "Epoch 1/50000\n",
      "WARNING:tensorflow:AutoGraph could not transform <bound method TextWrapper._wrap_chunks of <textwrap.TextWrapper object at 0x7f624451c1c0>> and will run it as-is.\n",
      "Cause: while/else statement not yet supported\n",
      "To silence this warning, decorate the function with @tf.autograph.experimental.do_not_convert\n",
      "WARNING: AutoGraph could not transform <bound method TextWrapper._wrap_chunks of <textwrap.TextWrapper object at 0x7f624451c1c0>> and will run it as-is.\n",
      "Cause: while/else statement not yet supported\n",
      "To silence this warning, decorate the function with @tf.autograph.experimental.do_not_convert\n",
      "WARNING:tensorflow:AutoGraph could not transform <bound method Expr.args_cnc of 2*a_21*b_2> and will run it as-is.\n",
      "Cause: for/else statement not yet supported\n",
      "To silence this warning, decorate the function with @tf.autograph.experimental.do_not_convert\n",
      "WARNING: AutoGraph could not transform <bound method Expr.args_cnc of 2*a_21*b_2> and will run it as-is.\n",
      "Cause: for/else statement not yet supported\n",
      "To silence this warning, decorate the function with @tf.autograph.experimental.do_not_convert\n"
     ]
    }
   ],
   "source": [
    "# Create a constant input (e.g., zeros) since the input is supposed to be constant\n",
    "constant_input = np.ones((1, 1, 1))\n",
    "\n",
    "# Assuming num_output is the number of output nodes in your model\n",
    "# You can use a dummy value for y_true since your loss function doesn't depend on it\n",
    "dummy_y_true = np.zeros((1, num_output))\n",
    "\n",
    "# Fit the model\n",
    "history = model.fit(x=constant_input, y=dummy_y_true, \n",
    "          epochs=training_steps, \n",
    "          batch_size=1,\n",
    "          verbose=2)"
   ]
  },
  {
   "cell_type": "markdown",
   "metadata": {},
   "source": [
    "## Plot history"
   ]
  },
  {
   "cell_type": "code",
   "execution_count": null,
   "metadata": {},
   "outputs": [
    {
     "data": {
      "image/png": "[encoded data removed]",
      "text/plain": [
       "<Figure size 1000x500 with 2 Axes>"
      ]
     },
     "metadata": {},
     "output_type": "display_data"
    }
   ],
   "source": [
    "rk_method = problem_name.split('_')[-1]\n",
    "\n",
    "# Plot training history with log scale (left) and linear scale (right)\n",
    "plt.figure(figsize=(10, 5))\n",
    "\n",
    "# Plot on the right side with linear scale\n",
    "plt.plot(history.history['loss'], color='orange', label='Linear Scale')\n",
    "plt.title(f'Training history RK_{rk_method}')\n",
    "plt.xlabel('Epoch')\n",
    "plt.ylabel('Loss')\n",
    "\n",
    "# Create a secondary y-axis for the right side\n",
    "plt2 = plt.gca().twinx()\n",
    "# Plot on the left side with log scale\n",
    "plt2.semilogy(history.history['loss'], label='Log Scale')\n",
    "plt2.set_ylabel('Loss (Log Scale)')\n",
    "\n",
    "# Add legend for both axes\n",
    "plt.legend(loc='upper left')\n",
    "plt2.legend(loc='upper right')\n",
    "\n",
    "# Show the plot\n",
    "plt.show()"
   ]
  },
  {
   "cell_type": "markdown",
   "metadata": {},
   "source": [
    "## Test the model"
   ]
  },
  {
   "cell_type": "code",
   "execution_count": null,
   "metadata": {},
   "outputs": [
    {
     "name": "stdout",
     "output_type": "stream",
     "text": [
      "1/1 [==============================] - 0s 284ms/step\n",
      "Solution:\n",
      "a_21 = 0.5008938542583806\n",
      "a_31 = -0.0845502581539522\n",
      "a_32 = 0.5833494771463918\n",
      "a_41 = -0.0041907523376023\n",
      "a_42 = 0.1486018142876768\n",
      "a_43 = 0.8555852313532838\n",
      "b_1  = 0.1666664096069838\n",
      "b_2  = 0.3821548486151614\n",
      "b_3  = 0.2845112270191225\n",
      "b_4  = 0.1666675137370997\n",
      "+---------------------------------------------------------------------------------------------------+---------------------+\n",
      "| Equation                                                                                          |   Function residual |\n",
      "+===================================================================================================+=====================+\n",
      "| b_1 + b_2 + b_3 + b_4 - 1 =                                                                       |          1.0216e-09 |\n",
      "+---------------------------------------------------------------------------------------------------+---------------------+\n",
      "| 2*a_21*b_2 + 2*b_3*(a_31 + a_32) + 2*b_4*(a_41 + a_42 + a_43) - 1 =                               |          2.2234e-07 |\n",
      "+---------------------------------------------------------------------------------------------------+---------------------+\n",
      "| 6*a_21*a_32*b_3 + 6*b_4*(a_21*a_42 + a_43*(a_31 + a_32)) - 1 =                                    |          6.97e-08   |\n",
      "+---------------------------------------------------------------------------------------------------+---------------------+\n",
      "| 3*a_21^2*b_2 + 3*b_3*(a_31 + a_32)^2 + 3*b_4*(a_41 + a_42 + a_43)^2 - 1 =                         |          4.031e-07  |\n",
      "+---------------------------------------------------------------------------------------------------+---------------------+\n",
      "| 24*a_21*a_32*a_43*b_4 - 1 =                                                                       |          1.3651e-08 |\n",
      "+---------------------------------------------------------------------------------------------------+---------------------+\n",
      "| 12*a_21^2*a_32*b_3 + 12*b_4*(a_21^2*a_42 + a_43*(a_31 + a_32)^2) - 1 =                            |          6.5811e-08 |\n",
      "+---------------------------------------------------------------------------------------------------+---------------------+\n",
      "| 8*a_21*a_32*b_3*(a_31 + a_32) + 8*b_4*(a_21*a_42 + a_43*(a_31 + a_32))*(a_41 + a_42 + a_43) - 1 = |          9.0273e-09 |\n",
      "+---------------------------------------------------------------------------------------------------+---------------------+\n",
      "| 4*a_21^3*b_2 + 4*b_3*(a_31 + a_32)^3 + 4*b_4*(a_41 + a_42 + a_43)^3 - 1 =                         |          1.6296e-07 |\n",
      "+---------------------------------------------------------------------------------------------------+---------------------+\n"
     ]
    }
   ],
   "source": [
    "# Test the model\n",
    "solution = model.predict(constant_input)[0][0]\n",
    "\n",
    "print('Solution:')\n",
    "for i, var in enumerate(variables):\n",
    "    print(f'{var:4} = {solution[i]:.16f}')\n",
    "\n",
    "headers = ['Equation', 'Function residual']\n",
    "table_data = []\n",
    "for f, func in enumerate(equations):\n",
    "    eq = equations_sym[f]\n",
    "    equation = lambdify(variables_sym, eq)\n",
    "    func_res_eq = abs(equation(*solution))\n",
    "    table_data.append([f'{func} = ', f'{func_res_eq:.4e}'])\n",
    "\n",
    "print(tabulate(table_data, headers=headers, tablefmt='grid'))"
   ]
  }
 ],
 "metadata": {
  "kernelspec": {
   "display_name": "venv-nn-systems",
   "language": "python",
   "name": "python3"
  },
  "language_info": {
   "codemirror_mode": {
    "name": "ipython",
    "version": 3
   },
   "file_extension": ".py",
   "mimetype": "text/x-python",
   "name": "python",
   "nbconvert_exporter": "python",
   "pygments_lexer": "ipython3",
   "version": "3.10.12"
  }
 },
 "nbformat": 4,
 "nbformat_minor": 2
}
