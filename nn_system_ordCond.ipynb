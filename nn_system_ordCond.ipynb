{
 "cells": [
  {
   "cell_type": "markdown",
   "metadata": {},
   "source": [
    "# Import packages"
   ]
  },
  {
   "cell_type": "code",
   "execution_count": 19,
   "metadata": {},
   "outputs": [],
   "source": [
    "import os\n",
    "import json\n",
    "import re\n",
    "from sympy import simplify, symbols, collect\n",
    "\n",
    "\n",
    "# import tensorflow as tf\n",
    "# from tensorflow.keras.optimizers import Adam, RMSprop, SGD\n",
    "# from tensorflow.keras import layers\n",
    "\n",
    "# # Set random seeds for reproducibility\n",
    "# seed_value = 2023\n",
    "# tf.random.set_seed(seed_value)"
   ]
  },
  {
   "cell_type": "markdown",
   "metadata": {},
   "source": [
    "# Constants and parameters"
   ]
  },
  {
   "cell_type": "code",
   "execution_count": 20,
   "metadata": {},
   "outputs": [
    {
     "data": {
      "text/plain": [
       "'/media/jesus/GSUS-DATA/CANADA_docs/RaymondSpiteri_USASK_SK/RKTK_equation_learning/nn-non-linear-systems'"
      ]
     },
     "execution_count": 20,
     "metadata": {},
     "output_type": "execute_result"
    }
   ],
   "source": [
    "os.getcwd()"
   ]
  },
  {
   "cell_type": "code",
   "execution_count": 28,
   "metadata": {},
   "outputs": [],
   "source": [
    "EQS_FILE = 'ERK_equations_s3p3.json'\n",
    "\n",
    "EQS_PATH = os.path.join(os.getcwd(), 'RK_rootedtrees', EQS_FILE)"
   ]
  },
  {
   "cell_type": "markdown",
   "metadata": {},
   "source": [
    "# Load Equations"
   ]
  },
  {
   "cell_type": "code",
   "execution_count": 49,
   "metadata": {},
   "outputs": [
    {
     "name": "stdout",
     "output_type": "stream",
     "text": [
      "equation_terms = [['-1', 'b_1', 'b_2', 'b_3'], ['-1', '2*a_21*b_2', '2*b_3*(a_31 + a_32)'], ['-1', '6*a_21*a_32*b_3'], ['-1', '3*a_21^2*b_2', '3*b_3*(a_31 + a_32)^2']]\n",
      "[[-1, 1, 1, 1], [-1, 2, 2], [-1, 6], [-1, 3, 3]]\n",
      "[['b_1', 'b_2', 'b_3'], ['b_2', '(a_31 + a_32)'], ['b_3'], ['b_2', '(a_31 + a_32)^2']]\n"
     ]
    }
   ],
   "source": [
    "# Read the JSON data from the file\n",
    "with open(EQS_PATH, 'r') as file:\n",
    "    data = json.load(file)\n",
    "\n",
    "variables = data['variables']\n",
    "equations = data['equations']\n",
    "equation_terms = data['equation_terms']\n",
    "\n",
    "# display(\n",
    "#     f'variables = {variables}',\n",
    "#     f'equations = {equations}',\n",
    "#     f'equation_terms = {equation_terms}'\n",
    "# )\n",
    "\n",
    "print(f'equation_terms = {equation_terms}')\n",
    "\n",
    "# Initialize a list to store the coefficients\n",
    "coefficients = []\n",
    "functions = []\n",
    "\n",
    "# Loop through the equation terms\n",
    "for terms in equation_terms:\n",
    "    equation_coeffs = [int(terms[0])]\n",
    "    equation_functions = list()\n",
    "    for term in terms[1:]:\n",
    "        # Split each term by the first '*'\n",
    "        term_parts = term.split('*')\n",
    "        # print(f'term_parts = {term_parts}')\n",
    "        # Extract the scalar coefficient or default to '1'\n",
    "        scalar_coeff = term_parts[0] if len(term_parts) > 1 else '1'\n",
    "        equation_coeffs.append(int(scalar_coeff))\n",
    "        \n",
    "        func_coeff = term_parts[-1] if len(term_parts) > 1 else term_parts[0]\n",
    "        equation_functions.append(func_coeff)\n",
    "        \n",
    "        # # Convert the first part (scalar coefficient) to an integer\n",
    "        # scalar_coeff = int(term_parts[0])\n",
    "        # equation_coeffs.append(scalar_coeff)\n",
    "        # # Append the remaining parts (terms with variables)\n",
    "        # equation_coeffs.extend(term_parts[1:])\n",
    "    coefficients.append(equation_coeffs)\n",
    "    functions.append(equation_functions)\n",
    "\n",
    "print(coefficients)\n",
    "print(functions)"
   ]
  },
  {
   "cell_type": "markdown",
   "metadata": {},
   "source": [
    "# Model"
   ]
  },
  {
   "cell_type": "markdown",
   "metadata": {},
   "source": [
    "## Create model"
   ]
  },
  {
   "cell_type": "code",
   "execution_count": null,
   "metadata": {},
   "outputs": [],
   "source": []
  }
 ],
 "metadata": {
  "kernelspec": {
   "display_name": "venv-nn-systems",
   "language": "python",
   "name": "python3"
  },
  "language_info": {
   "codemirror_mode": {
    "name": "ipython",
    "version": 3
   },
   "file_extension": ".py",
   "mimetype": "text/x-python",
   "name": "python",
   "nbconvert_exporter": "python",
   "pygments_lexer": "ipython3",
   "version": "3.10.12"
  }
 },
 "nbformat": 4,
 "nbformat_minor": 2
}
